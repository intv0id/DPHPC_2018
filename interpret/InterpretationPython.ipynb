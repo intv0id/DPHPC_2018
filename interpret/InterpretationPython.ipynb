{
 "cells": [
  {
   "cell_type": "code",
   "execution_count": null,
   "metadata": {},
   "outputs": [],
   "source": [
    "import numpy as np\n",
    "import pandas as pd\n",
    "import matplotlib.pyplot as plt\n",
    "import  glob\n",
    "import seaborn as sns\n",
    "import re\n",
    "from io import StringIO\n",
    "\n",
    "tocategory = lambda col: pd.Categorical(col)\n",
    "underscoretospace = lambda x: x.replace(\"_\", \" \") if type(x) is str else x\n",
    "def q5(x): return x.quantile(.05)\n",
    "def q95(x): return x.quantile(.95)"
   ]
  },
  {
   "cell_type": "code",
   "execution_count": null,
   "metadata": {},
   "outputs": [],
   "source": [
    "filenames = glob.glob(\"data/lsb.*.r*\")\n",
    "params = [\"Algorithm\", \"Max threads\", \"Graph nodes\"];\n",
    "\n",
    "def remove_space(filename):\n",
    "    with open(filename) as f:\n",
    "        return re.sub(\" +\", ' ', f.read())\n",
    "\n",
    "files = [StringIO(remove_space(filename)) for filename in filenames]"
   ]
  },
  {
   "cell_type": "code",
   "execution_count": null,
   "metadata": {},
   "outputs": [],
   "source": [
    "def get_df(file):\n",
    "    return (pd\n",
    "      .read_csv(file, sep=\" \", comment=\"#\", skipinitialspace=True, index_col=\"id\")\n",
    "      .applymap(underscoretospace)\n",
    "      .dropna(\"columns\", \"all\")\n",
    "    )\n",
    "df = pd.concat(get_df(file) for file in files)\n",
    "df[[\"Algorithm\", \"Graph_name\"]] = df[[\"Algorithm\", \"Graph_name\"]].apply(tocategory)\n",
    "df.columns = df.columns.map(underscoretospace)\n",
    "df['Graph'] = df.apply(lambda x: (x['Graph name'], x['Graph nodes']), 1)"
   ]
  },
  {
   "cell_type": "code",
   "execution_count": null,
   "metadata": {},
   "outputs": [],
   "source": [
    "df.head(5)"
   ]
  },
  {
   "cell_type": "code",
   "execution_count": null,
   "metadata": {},
   "outputs": [],
   "source": [
    "df.tail(5)"
   ]
  },
  {
   "cell_type": "code",
   "execution_count": null,
   "metadata": {},
   "outputs": [],
   "source": [
    "timequantiles = df.groupby(params).agg([q5, q95])[\"time\"]\n",
    "df_timequantiles =  timequantiles.loc[map(tuple, df[params].values)]"
   ]
  },
  {
   "cell_type": "code",
   "execution_count": null,
   "metadata": {},
   "outputs": [],
   "source": [
    "summary = (df[params + [\"time\"]]\n",
    "    [(df.time >= df_timequantiles[\"q5\"].values) & (df.time <= df_timequantiles[\"q95\"].values)]\n",
    "    .groupby(params).agg([\"median\", \"mean\", \"min\", \"max\", \"std\"])\n",
    ")"
   ]
  },
  {
   "cell_type": "code",
   "execution_count": null,
   "metadata": {},
   "outputs": [],
   "source": [
    "summary"
   ]
  },
  {
   "cell_type": "code",
   "execution_count": null,
   "metadata": {},
   "outputs": [],
   "source": [
    "fig, ax = plt.subplots(nrows=len(df.Graph.unique()),figsize=(15,5*len(df.Graph.unique())))\n",
    "for i, e in enumerate(df.Graph.unique()):\n",
    "    sns.lineplot(\n",
    "        ax=ax[i], \n",
    "        data=df[df.Graph == e], \n",
    "        x=\"Max threads\", \n",
    "        y=\"time\", \n",
    "        hue=\"Algorithm\",\n",
    "        markers=True,\n",
    "        ci=\"sd\",\n",
    "        err_style=\"bars\",\n",
    "    ).set(yscale=\"log\")\n",
    "    ax[i].set_title(f\"{e[1]} - {e[0]} nodes\")\n",
    "    ax[i].set_ylim(1,)\n",
    "plt.suptitle(\"Runtime per graph\")\n",
    "plt.show()"
   ]
  },
  {
   "cell_type": "code",
   "execution_count": null,
   "metadata": {},
   "outputs": [],
   "source": [
    "fig, ax = plt.subplots(nrows=len(df[\"Algorithm\"].unique()),figsize=(15,5*len(df[\"Algorithm\"].unique())))\n",
    "for i, e in enumerate(df[\"Algorithm\"].unique()):\n",
    "    sns.lineplot(\n",
    "        ax=ax[i], \n",
    "        data=df[df[\"Algorithm\"].values == e], \n",
    "        x=\"Graph nodes\", \n",
    "        y=\"time\", \n",
    "        hue=\"Max threads\",\n",
    "        markers=True,\n",
    "        ci=\"sd\",\n",
    "        err_style=\"bars\",\n",
    "    ).set(yscale=\"log\")\n",
    "    ax[i].set_title(f\"{e}\")\n",
    "    ax[i].set_ylim(1,)\n",
    "plt.suptitle(\"Runtime per algorithm\")\n",
    "plt.show()"
   ]
  },
  {
   "cell_type": "code",
   "execution_count": null,
   "metadata": {},
   "outputs": [],
   "source": [
    "g_idx = [\"Graph nodes\", \"Graph name\"]\n",
    "graphs = df[g_idx].drop_duplicates().values"
   ]
  },
  {
   "cell_type": "code",
   "execution_count": null,
   "metadata": {},
   "outputs": [],
   "source": [
    "fig, ax = plt.subplots(nrows=len(df.Graph.unique()),figsize=(15,5*len(df.Graph.unique())))\n",
    "for i, e in enumerate(df.Graph.unique()):\n",
    "    sns.violinplot(\n",
    "        x=\"Max threads\", y=\"time\", hue=\"Algorithm\", \n",
    "        data=df[df.Graph == e], \n",
    "        palette=\"Pastel2\", ax=ax[i]\n",
    "    )\n",
    "    ax[i].set_title(f\"{e[1]} - {e[0]} nodes\")\n",
    "    ax[i].set_ylim(0,)\n",
    "plt.suptitle(\"Runtime per graph\")\n",
    "plt.show()"
   ]
  },
  {
   "cell_type": "code",
   "execution_count": null,
   "metadata": {},
   "outputs": [],
   "source": [
    "fig, ax = plt.subplots(nrows=len(df.Graph.unique()),figsize=(15,5*len(df.Graph.unique())))\n",
    "for i, e in enumerate(df.Graph.unique()):\n",
    "    sns.boxplot(\n",
    "        x=\"Max threads\", y=\"time\", hue=\"Algorithm\", \n",
    "        data=df[df.Graph == e], \n",
    "        palette=\"Pastel1\", ax=ax[i]\n",
    "    ).set(yscale=\"log\")\n",
    "    ax[i].set_title(f\"{e[1]} - {e[0]} nodes\")\n",
    "plt.suptitle(\"Runtime per graph\")\n",
    "plt.show()"
   ]
  },
  {
   "cell_type": "code",
   "execution_count": null,
   "metadata": {},
   "outputs": [],
   "source": [
    "reference_algorithm = \"Sollin\"\n",
    "reference_times = df[(df.Algorithm == reference_algorithm) & (df['Max threads'] == 1)][[\"Graph\", \"time\"]].groupby('Graph').median()['time']\n",
    "\n",
    "df['speedup'] = df.apply(lambda x: x.time / reference_times[x.Graph], 1)\n",
    "\n",
    "fig, ax = plt.subplots(nrows=len(df.Graph.unique()),figsize=(15,5*len(df.Graph.unique())))\n",
    "for i, e in enumerate(df.Graph.unique()):\n",
    "    sns.lineplot(\n",
    "        ax=ax[i], \n",
    "        data=df[df.Graph == e], \n",
    "        x=\"Graph nodes\", \n",
    "        y=\"speedup\", \n",
    "        hue=\"Max threads\",\n",
    "        markers=True,\n",
    "        ci=\"sd\",\n",
    "        err_style=\"bars\",\n",
    "    )#.set(yscale=\"log\")\n",
    "    ax[i].set_title(f\"{e[1]} - {e[0]} nodes\")\n",
    "    ax[i].set_ylim(1,)\n",
    "plt.title(\"Speedup per graph\")\n",
    "plt.show()"
   ]
  },
  {
   "cell_type": "code",
   "execution_count": null,
   "metadata": {},
   "outputs": [],
   "source": []
  }
 ],
 "metadata": {
  "kernelspec": {
   "display_name": "Python 3",
   "language": "python",
   "name": "python3"
  },
  "language_info": {
   "codemirror_mode": {
    "name": "ipython",
    "version": 3
   },
   "file_extension": ".py",
   "mimetype": "text/x-python",
   "name": "python",
   "nbconvert_exporter": "python",
   "pygments_lexer": "ipython3",
   "version": "3.6.6"
  }
 },
 "nbformat": 4,
 "nbformat_minor": 2
}
